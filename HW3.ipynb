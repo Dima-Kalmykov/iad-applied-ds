{
  "cells": [
    {
      "cell_type": "markdown",
      "metadata": {
        "id": "sdwwxjAQFXfw"
      },
      "source": [
        "<center><img src=\"https://github.com/hse-ds/iad-applied-ds/blob/master/2021/hw/hw1/img/logo_hse.png?raw=1\" width=\"1000\"></center>\n",
        "\n",
        "<h1><center>Прикладные задачи анализа данных</center></h1>\n",
        "<h2><center>Домашнее задание 3: Прогнозирование временных рядов</center></h2>"
      ]
    },
    {
      "cell_type": "markdown",
      "metadata": {
        "id": "7YFkvK6vFXf9"
      },
      "source": [
        "# Введение\n",
        "\n",
        "В этом задании Вам предстоит разобраться с основами анализа и прогнозирования временных рядов. \n",
        "\n",
        "\n",
        "![image](https://imgs.xkcd.com/comics/extrapolating.png)"
      ]
    },
    {
      "cell_type": "code",
      "execution_count": 322,
      "metadata": {
        "id": "DPQ9427wjLeX",
        "colab": {
          "base_uri": "https://localhost:8080/"
        },
        "outputId": "ba4b6436-c5d4-4630-b251-646710f7abc3"
      },
      "outputs": [
        {
          "output_type": "stream",
          "name": "stdout",
          "text": [
            "Requirement already satisfied: orbit-ml in /usr/local/lib/python3.7/dist-packages (1.1.1)\n",
            "Requirement already satisfied: arviz in /usr/local/lib/python3.7/dist-packages (from orbit-ml) (0.12.0)\n",
            "Requirement already satisfied: tqdm in /usr/local/lib/python3.7/dist-packages (from orbit-ml) (4.64.0)\n",
            "Requirement already satisfied: pystan==2.19.1.1 in /usr/local/lib/python3.7/dist-packages (from orbit-ml) (2.19.1.1)\n",
            "Requirement already satisfied: numpy>=1.18.2 in /usr/local/lib/python3.7/dist-packages (from orbit-ml) (1.21.5)\n",
            "Requirement already satisfied: torch in /usr/local/lib/python3.7/dist-packages (from orbit-ml) (1.11.0)\n",
            "Requirement already satisfied: seaborn>=0.10.0 in /usr/local/lib/python3.7/dist-packages (from orbit-ml) (0.11.2)\n",
            "Requirement already satisfied: pyro-ppl>=1.4.0 in /usr/local/lib/python3.7/dist-packages (from orbit-ml) (1.8.1)\n",
            "Requirement already satisfied: statsmodels>=0.11.1 in /usr/local/lib/python3.7/dist-packages (from orbit-ml) (0.13.2)\n",
            "Requirement already satisfied: matplotlib>=3.3.2 in /usr/local/lib/python3.7/dist-packages (from orbit-ml) (3.5.1)\n",
            "Requirement already satisfied: scipy>=1.4.1 in /usr/local/lib/python3.7/dist-packages (from orbit-ml) (1.7.3)\n",
            "Requirement already satisfied: pandas>=1.0.3 in /usr/local/lib/python3.7/dist-packages (from orbit-ml) (1.3.5)\n",
            "Requirement already satisfied: Cython!=0.25.1,>=0.22 in /usr/local/lib/python3.7/dist-packages (from pystan==2.19.1.1->orbit-ml) (0.29.28)\n",
            "Requirement already satisfied: pillow>=6.2.0 in /usr/local/lib/python3.7/dist-packages (from matplotlib>=3.3.2->orbit-ml) (7.1.2)\n",
            "Requirement already satisfied: packaging>=20.0 in /usr/local/lib/python3.7/dist-packages (from matplotlib>=3.3.2->orbit-ml) (21.3)\n",
            "Requirement already satisfied: pyparsing>=2.2.1 in /usr/local/lib/python3.7/dist-packages (from matplotlib>=3.3.2->orbit-ml) (3.0.8)\n",
            "Requirement already satisfied: cycler>=0.10 in /usr/local/lib/python3.7/dist-packages (from matplotlib>=3.3.2->orbit-ml) (0.11.0)\n",
            "Requirement already satisfied: python-dateutil>=2.7 in /usr/local/lib/python3.7/dist-packages (from matplotlib>=3.3.2->orbit-ml) (2.8.2)\n",
            "Requirement already satisfied: fonttools>=4.22.0 in /usr/local/lib/python3.7/dist-packages (from matplotlib>=3.3.2->orbit-ml) (4.32.0)\n",
            "Requirement already satisfied: kiwisolver>=1.0.1 in /usr/local/lib/python3.7/dist-packages (from matplotlib>=3.3.2->orbit-ml) (1.4.2)\n",
            "Requirement already satisfied: typing-extensions in /usr/local/lib/python3.7/dist-packages (from kiwisolver>=1.0.1->matplotlib>=3.3.2->orbit-ml) (4.1.1)\n",
            "Requirement already satisfied: pytz>=2017.3 in /usr/local/lib/python3.7/dist-packages (from pandas>=1.0.3->orbit-ml) (2018.9)\n",
            "Requirement already satisfied: pyro-api>=0.1.1 in /usr/local/lib/python3.7/dist-packages (from pyro-ppl>=1.4.0->orbit-ml) (0.1.2)\n",
            "Requirement already satisfied: opt-einsum>=2.3.2 in /usr/local/lib/python3.7/dist-packages (from pyro-ppl>=1.4.0->orbit-ml) (3.3.0)\n",
            "Requirement already satisfied: six>=1.5 in /usr/local/lib/python3.7/dist-packages (from python-dateutil>=2.7->matplotlib>=3.3.2->orbit-ml) (1.15.0)\n",
            "Requirement already satisfied: patsy>=0.5.2 in /usr/local/lib/python3.7/dist-packages (from statsmodels>=0.11.1->orbit-ml) (0.5.2)\n",
            "Requirement already satisfied: netcdf4 in /usr/local/lib/python3.7/dist-packages (from arviz->orbit-ml) (1.5.8)\n",
            "Requirement already satisfied: xarray>=0.16.1 in /usr/local/lib/python3.7/dist-packages (from arviz->orbit-ml) (0.18.2)\n",
            "Requirement already satisfied: setuptools>=38.4 in /usr/local/lib/python3.7/dist-packages (from arviz->orbit-ml) (57.4.0)\n",
            "Requirement already satisfied: cftime in /usr/local/lib/python3.7/dist-packages (from netcdf4->arviz->orbit-ml) (1.6.0)\n",
            "Requirement already satisfied: prophet in /usr/local/lib/python3.7/dist-packages (1.0.1)\n",
            "Requirement already satisfied: pandas>=1.0.4 in /usr/local/lib/python3.7/dist-packages (from prophet) (1.3.5)\n",
            "Requirement already satisfied: LunarCalendar>=0.0.9 in /usr/local/lib/python3.7/dist-packages (from prophet) (0.0.9)\n",
            "Requirement already satisfied: pystan~=2.19.1.1 in /usr/local/lib/python3.7/dist-packages (from prophet) (2.19.1.1)\n",
            "Requirement already satisfied: tqdm>=4.36.1 in /usr/local/lib/python3.7/dist-packages (from prophet) (4.64.0)\n",
            "Requirement already satisfied: matplotlib>=2.0.0 in /usr/local/lib/python3.7/dist-packages (from prophet) (3.5.1)\n",
            "Requirement already satisfied: holidays>=0.10.2 in /usr/local/lib/python3.7/dist-packages (from prophet) (0.10.5.2)\n",
            "Requirement already satisfied: setuptools-git>=1.2 in /usr/local/lib/python3.7/dist-packages (from prophet) (1.2)\n",
            "Requirement already satisfied: python-dateutil>=2.8.0 in /usr/local/lib/python3.7/dist-packages (from prophet) (2.8.2)\n",
            "Requirement already satisfied: Cython>=0.22 in /usr/local/lib/python3.7/dist-packages (from prophet) (0.29.28)\n",
            "Requirement already satisfied: convertdate>=2.1.2 in /usr/local/lib/python3.7/dist-packages (from prophet) (2.4.0)\n",
            "Requirement already satisfied: numpy>=1.15.4 in /usr/local/lib/python3.7/dist-packages (from prophet) (1.21.5)\n",
            "Requirement already satisfied: cmdstanpy==0.9.68 in /usr/local/lib/python3.7/dist-packages (from prophet) (0.9.68)\n",
            "Requirement already satisfied: ujson in /usr/local/lib/python3.7/dist-packages (from cmdstanpy==0.9.68->prophet) (5.2.0)\n",
            "Requirement already satisfied: pymeeus<=1,>=0.3.13 in /usr/local/lib/python3.7/dist-packages (from convertdate>=2.1.2->prophet) (0.5.11)\n",
            "Requirement already satisfied: korean-lunar-calendar in /usr/local/lib/python3.7/dist-packages (from holidays>=0.10.2->prophet) (0.2.1)\n",
            "Requirement already satisfied: hijri-converter in /usr/local/lib/python3.7/dist-packages (from holidays>=0.10.2->prophet) (2.2.3)\n",
            "Requirement already satisfied: six in /usr/local/lib/python3.7/dist-packages (from holidays>=0.10.2->prophet) (1.15.0)\n",
            "Requirement already satisfied: ephem>=3.7.5.3 in /usr/local/lib/python3.7/dist-packages (from LunarCalendar>=0.0.9->prophet) (4.1.3)\n",
            "Requirement already satisfied: pytz in /usr/local/lib/python3.7/dist-packages (from LunarCalendar>=0.0.9->prophet) (2018.9)\n",
            "Requirement already satisfied: cycler>=0.10 in /usr/local/lib/python3.7/dist-packages (from matplotlib>=2.0.0->prophet) (0.11.0)\n",
            "Requirement already satisfied: pillow>=6.2.0 in /usr/local/lib/python3.7/dist-packages (from matplotlib>=2.0.0->prophet) (7.1.2)\n",
            "Requirement already satisfied: kiwisolver>=1.0.1 in /usr/local/lib/python3.7/dist-packages (from matplotlib>=2.0.0->prophet) (1.4.2)\n",
            "Requirement already satisfied: packaging>=20.0 in /usr/local/lib/python3.7/dist-packages (from matplotlib>=2.0.0->prophet) (21.3)\n",
            "Requirement already satisfied: pyparsing>=2.2.1 in /usr/local/lib/python3.7/dist-packages (from matplotlib>=2.0.0->prophet) (3.0.8)\n",
            "Requirement already satisfied: fonttools>=4.22.0 in /usr/local/lib/python3.7/dist-packages (from matplotlib>=2.0.0->prophet) (4.32.0)\n",
            "Requirement already satisfied: typing-extensions in /usr/local/lib/python3.7/dist-packages (from kiwisolver>=1.0.1->matplotlib>=2.0.0->prophet) (4.1.1)\n",
            "Requirement already satisfied: sktime[all_extras] in /usr/local/lib/python3.7/dist-packages (0.11.2)\n",
            "Requirement already satisfied: scikit-learn>=0.24.0 in /usr/local/lib/python3.7/dist-packages (from sktime[all_extras]) (1.0.2)\n",
            "Requirement already satisfied: pandas<1.5.0,>=1.1.0 in /usr/local/lib/python3.7/dist-packages (from sktime[all_extras]) (1.3.5)\n",
            "Requirement already satisfied: statsmodels>=0.12.1 in /usr/local/lib/python3.7/dist-packages (from sktime[all_extras]) (0.13.2)\n",
            "Requirement already satisfied: scipy<1.8.0 in /usr/local/lib/python3.7/dist-packages (from sktime[all_extras]) (1.7.3)\n",
            "Requirement already satisfied: numba>=0.53 in /usr/local/lib/python3.7/dist-packages (from sktime[all_extras]) (0.55.1)\n",
            "Requirement already satisfied: deprecated>=1.2.13 in /usr/local/lib/python3.7/dist-packages (from sktime[all_extras]) (1.2.13)\n",
            "Requirement already satisfied: numpy<1.22,>=1.21.0 in /usr/local/lib/python3.7/dist-packages (from sktime[all_extras]) (1.21.5)\n",
            "Requirement already satisfied: hcrystalball>=0.1.9 in /usr/local/lib/python3.7/dist-packages (from sktime[all_extras]) (0.1.12)\n",
            "Requirement already satisfied: pystan==2.19.1.1 in /usr/local/lib/python3.7/dist-packages (from sktime[all_extras]) (2.19.1.1)\n",
            "Requirement already satisfied: stumpy>=1.5.1 in /usr/local/lib/python3.7/dist-packages (from sktime[all_extras]) (1.11.1)\n",
            "Requirement already satisfied: dtw-python in /usr/local/lib/python3.7/dist-packages (from sktime[all_extras]) (1.1.12)\n",
            "Requirement already satisfied: scikit-posthocs>=0.6.5 in /usr/local/lib/python3.7/dist-packages (from sktime[all_extras]) (0.6.7)\n",
            "Requirement already satisfied: tslearn>=0.5.2 in /usr/local/lib/python3.7/dist-packages (from sktime[all_extras]) (0.5.2)\n",
            "Requirement already satisfied: matplotlib>=3.3.2 in /usr/local/lib/python3.7/dist-packages (from sktime[all_extras]) (3.5.1)\n",
            "Requirement already satisfied: prophet>=1.0 in /usr/local/lib/python3.7/dist-packages (from sktime[all_extras]) (1.0.1)\n",
            "Requirement already satisfied: seaborn>=0.11.0 in /usr/local/lib/python3.7/dist-packages (from sktime[all_extras]) (0.11.2)\n",
            "Requirement already satisfied: tsfresh>=0.17.0 in /usr/local/lib/python3.7/dist-packages (from sktime[all_extras]) (0.19.0)\n",
            "Requirement already satisfied: pyod>=0.8.0 in /usr/local/lib/python3.7/dist-packages (from sktime[all_extras]) (0.9.9)\n",
            "Requirement already satisfied: statsforecast>=0.5.2 in /usr/local/lib/python3.7/dist-packages (from sktime[all_extras]) (0.5.3)\n",
            "Requirement already satisfied: tbats>=1.1.0 in /usr/local/lib/python3.7/dist-packages (from sktime[all_extras]) (1.1.0)\n",
            "Requirement already satisfied: tensorflow in /usr/local/lib/python3.7/dist-packages (from sktime[all_extras]) (2.8.0)\n",
            "Requirement already satisfied: tensorflow-probability in /usr/local/lib/python3.7/dist-packages (from sktime[all_extras]) (0.16.0)\n",
            "Requirement already satisfied: pmdarima!=1.8.1,>=1.8.0 in /usr/local/lib/python3.7/dist-packages (from sktime[all_extras]) (1.8.5)\n",
            "Requirement already satisfied: esig==0.9.7 in /usr/local/lib/python3.7/dist-packages (from sktime[all_extras]) (0.9.7)\n",
            "Requirement already satisfied: Cython!=0.25.1,>=0.22 in /usr/local/lib/python3.7/dist-packages (from pystan==2.19.1.1->sktime[all_extras]) (0.29.28)\n",
            "Requirement already satisfied: wrapt<2,>=1.10 in /usr/local/lib/python3.7/dist-packages (from deprecated>=1.2.13->sktime[all_extras]) (1.14.0)\n",
            "Requirement already satisfied: workalendar>=10.1 in /usr/local/lib/python3.7/dist-packages (from hcrystalball>=0.1.9->sktime[all_extras]) (16.3.0)\n",
            "Requirement already satisfied: pillow>=6.2.0 in /usr/local/lib/python3.7/dist-packages (from matplotlib>=3.3.2->sktime[all_extras]) (7.1.2)\n",
            "Requirement already satisfied: fonttools>=4.22.0 in /usr/local/lib/python3.7/dist-packages (from matplotlib>=3.3.2->sktime[all_extras]) (4.32.0)\n",
            "Requirement already satisfied: pyparsing>=2.2.1 in /usr/local/lib/python3.7/dist-packages (from matplotlib>=3.3.2->sktime[all_extras]) (3.0.8)\n",
            "Requirement already satisfied: cycler>=0.10 in /usr/local/lib/python3.7/dist-packages (from matplotlib>=3.3.2->sktime[all_extras]) (0.11.0)\n",
            "Requirement already satisfied: kiwisolver>=1.0.1 in /usr/local/lib/python3.7/dist-packages (from matplotlib>=3.3.2->sktime[all_extras]) (1.4.2)\n",
            "Requirement already satisfied: packaging>=20.0 in /usr/local/lib/python3.7/dist-packages (from matplotlib>=3.3.2->sktime[all_extras]) (21.3)\n",
            "Requirement already satisfied: python-dateutil>=2.7 in /usr/local/lib/python3.7/dist-packages (from matplotlib>=3.3.2->sktime[all_extras]) (2.8.2)\n",
            "Requirement already satisfied: typing-extensions in /usr/local/lib/python3.7/dist-packages (from kiwisolver>=1.0.1->matplotlib>=3.3.2->sktime[all_extras]) (4.1.1)\n",
            "Requirement already satisfied: llvmlite<0.39,>=0.38.0rc1 in /usr/local/lib/python3.7/dist-packages (from numba>=0.53->sktime[all_extras]) (0.38.0)\n",
            "Requirement already satisfied: setuptools in /usr/local/lib/python3.7/dist-packages (from numba>=0.53->sktime[all_extras]) (57.4.0)\n",
            "Requirement already satisfied: pytz>=2017.3 in /usr/local/lib/python3.7/dist-packages (from pandas<1.5.0,>=1.1.0->sktime[all_extras]) (2018.9)\n",
            "Requirement already satisfied: urllib3 in /usr/local/lib/python3.7/dist-packages (from pmdarima!=1.8.1,>=1.8.0->sktime[all_extras]) (1.24.3)\n",
            "Requirement already satisfied: joblib>=0.11 in /usr/local/lib/python3.7/dist-packages (from pmdarima!=1.8.1,>=1.8.0->sktime[all_extras]) (1.1.0)\n",
            "Requirement already satisfied: setuptools-git>=1.2 in /usr/local/lib/python3.7/dist-packages (from prophet>=1.0->sktime[all_extras]) (1.2)\n",
            "Requirement already satisfied: holidays>=0.10.2 in /usr/local/lib/python3.7/dist-packages (from prophet>=1.0->sktime[all_extras]) (0.10.5.2)\n",
            "Requirement already satisfied: LunarCalendar>=0.0.9 in /usr/local/lib/python3.7/dist-packages (from prophet>=1.0->sktime[all_extras]) (0.0.9)\n",
            "Requirement already satisfied: convertdate>=2.1.2 in /usr/local/lib/python3.7/dist-packages (from prophet>=1.0->sktime[all_extras]) (2.4.0)\n",
            "Requirement already satisfied: cmdstanpy==0.9.68 in /usr/local/lib/python3.7/dist-packages (from prophet>=1.0->sktime[all_extras]) (0.9.68)\n",
            "Requirement already satisfied: tqdm>=4.36.1 in /usr/local/lib/python3.7/dist-packages (from prophet>=1.0->sktime[all_extras]) (4.64.0)\n",
            "Requirement already satisfied: ujson in /usr/local/lib/python3.7/dist-packages (from cmdstanpy==0.9.68->prophet>=1.0->sktime[all_extras]) (5.2.0)\n",
            "Requirement already satisfied: pymeeus<=1,>=0.3.13 in /usr/local/lib/python3.7/dist-packages (from convertdate>=2.1.2->prophet>=1.0->sktime[all_extras]) (0.5.11)\n",
            "Requirement already satisfied: korean-lunar-calendar in /usr/local/lib/python3.7/dist-packages (from holidays>=0.10.2->prophet>=1.0->sktime[all_extras]) (0.2.1)\n",
            "Requirement already satisfied: six in /usr/local/lib/python3.7/dist-packages (from holidays>=0.10.2->prophet>=1.0->sktime[all_extras]) (1.15.0)\n",
            "Requirement already satisfied: hijri-converter in /usr/local/lib/python3.7/dist-packages (from holidays>=0.10.2->prophet>=1.0->sktime[all_extras]) (2.2.3)\n",
            "Requirement already satisfied: ephem>=3.7.5.3 in /usr/local/lib/python3.7/dist-packages (from LunarCalendar>=0.0.9->prophet>=1.0->sktime[all_extras]) (4.1.3)\n",
            "Requirement already satisfied: threadpoolctl>=2.0.0 in /usr/local/lib/python3.7/dist-packages (from scikit-learn>=0.24.0->sktime[all_extras]) (3.1.0)\n",
            "Requirement already satisfied: patsy>=0.5.2 in /usr/local/lib/python3.7/dist-packages (from statsmodels>=0.12.1->sktime[all_extras]) (0.5.2)\n",
            "Requirement already satisfied: distributed>=2.11.0 in /usr/local/lib/python3.7/dist-packages (from tsfresh>=0.17.0->sktime[all_extras]) (2.30.1)\n",
            "Requirement already satisfied: requests>=2.9.1 in /usr/local/lib/python3.7/dist-packages (from tsfresh>=0.17.0->sktime[all_extras]) (2.23.0)\n",
            "Requirement already satisfied: cloudpickle in /usr/local/lib/python3.7/dist-packages (from tsfresh>=0.17.0->sktime[all_extras]) (2.0.0)\n",
            "Requirement already satisfied: dask[dataframe]>=2.9.0 in /usr/local/lib/python3.7/dist-packages (from tsfresh>=0.17.0->sktime[all_extras]) (2.12.0)\n",
            "Requirement already satisfied: matrixprofile<2.0.0,>=1.1.10 in /usr/local/lib/python3.7/dist-packages (from tsfresh>=0.17.0->sktime[all_extras]) (1.1.10)\n",
            "Requirement already satisfied: fsspec>=0.6.0 in /usr/local/lib/python3.7/dist-packages (from dask[dataframe]>=2.9.0->tsfresh>=0.17.0->sktime[all_extras]) (2022.3.0)\n",
            "Requirement already satisfied: toolz>=0.7.3 in /usr/local/lib/python3.7/dist-packages (from dask[dataframe]>=2.9.0->tsfresh>=0.17.0->sktime[all_extras]) (0.11.2)\n",
            "Requirement already satisfied: partd>=0.3.10 in /usr/local/lib/python3.7/dist-packages (from dask[dataframe]>=2.9.0->tsfresh>=0.17.0->sktime[all_extras]) (1.2.0)\n",
            "Requirement already satisfied: zict>=0.1.3 in /usr/local/lib/python3.7/dist-packages (from distributed>=2.11.0->tsfresh>=0.17.0->sktime[all_extras]) (2.1.0)\n",
            "Requirement already satisfied: click>=6.6 in /usr/local/lib/python3.7/dist-packages (from distributed>=2.11.0->tsfresh>=0.17.0->sktime[all_extras]) (7.1.2)\n",
            "Requirement already satisfied: tornado>=5 in /usr/local/lib/python3.7/dist-packages (from distributed>=2.11.0->tsfresh>=0.17.0->sktime[all_extras]) (5.1.1)\n",
            "Requirement already satisfied: sortedcontainers!=2.0.0,!=2.0.1 in /usr/local/lib/python3.7/dist-packages (from distributed>=2.11.0->tsfresh>=0.17.0->sktime[all_extras]) (2.4.0)\n",
            "Requirement already satisfied: msgpack>=0.6.0 in /usr/local/lib/python3.7/dist-packages (from distributed>=2.11.0->tsfresh>=0.17.0->sktime[all_extras]) (1.0.3)\n",
            "Requirement already satisfied: pyyaml in /usr/local/lib/python3.7/dist-packages (from distributed>=2.11.0->tsfresh>=0.17.0->sktime[all_extras]) (3.13)\n",
            "Requirement already satisfied: tblib>=1.6.0 in /usr/local/lib/python3.7/dist-packages (from distributed>=2.11.0->tsfresh>=0.17.0->sktime[all_extras]) (1.7.0)\n",
            "Requirement already satisfied: psutil>=5.0 in /usr/local/lib/python3.7/dist-packages (from distributed>=2.11.0->tsfresh>=0.17.0->sktime[all_extras]) (5.4.8)\n",
            "Requirement already satisfied: protobuf==3.11.2 in /usr/local/lib/python3.7/dist-packages (from matrixprofile<2.0.0,>=1.1.10->tsfresh>=0.17.0->sktime[all_extras]) (3.11.2)\n",
            "Requirement already satisfied: locket in /usr/local/lib/python3.7/dist-packages (from partd>=0.3.10->dask[dataframe]>=2.9.0->tsfresh>=0.17.0->sktime[all_extras]) (0.2.1)\n",
            "Requirement already satisfied: certifi>=2017.4.17 in /usr/local/lib/python3.7/dist-packages (from requests>=2.9.1->tsfresh>=0.17.0->sktime[all_extras]) (2021.10.8)\n",
            "Requirement already satisfied: chardet<4,>=3.0.2 in /usr/local/lib/python3.7/dist-packages (from requests>=2.9.1->tsfresh>=0.17.0->sktime[all_extras]) (3.0.4)\n",
            "Requirement already satisfied: idna<3,>=2.5 in /usr/local/lib/python3.7/dist-packages (from requests>=2.9.1->tsfresh>=0.17.0->sktime[all_extras]) (2.10)\n",
            "Requirement already satisfied: backports.zoneinfo in /usr/local/lib/python3.7/dist-packages (from workalendar>=10.1->hcrystalball>=0.1.9->sktime[all_extras]) (0.2.1)\n",
            "Requirement already satisfied: importlib-metadata in /usr/local/lib/python3.7/dist-packages (from workalendar>=10.1->hcrystalball>=0.1.9->sktime[all_extras]) (4.11.3)\n",
            "Requirement already satisfied: pyluach in /usr/local/lib/python3.7/dist-packages (from workalendar>=10.1->hcrystalball>=0.1.9->sktime[all_extras]) (1.4.1)\n",
            "Requirement already satisfied: lunardate in /usr/local/lib/python3.7/dist-packages (from workalendar>=10.1->hcrystalball>=0.1.9->sktime[all_extras]) (0.2.0)\n",
            "Requirement already satisfied: heapdict in /usr/local/lib/python3.7/dist-packages (from zict>=0.1.3->distributed>=2.11.0->tsfresh>=0.17.0->sktime[all_extras]) (1.0.1)\n",
            "Requirement already satisfied: zipp>=0.5 in /usr/local/lib/python3.7/dist-packages (from importlib-metadata->workalendar>=10.1->hcrystalball>=0.1.9->sktime[all_extras]) (3.8.0)\n",
            "Requirement already satisfied: absl-py>=0.4.0 in /usr/local/lib/python3.7/dist-packages (from tensorflow->sktime[all_extras]) (1.0.0)\n",
            "Requirement already satisfied: keras-preprocessing>=1.1.1 in /usr/local/lib/python3.7/dist-packages (from tensorflow->sktime[all_extras]) (1.1.2)\n",
            "Requirement already satisfied: tensorboard<2.9,>=2.8 in /usr/local/lib/python3.7/dist-packages (from tensorflow->sktime[all_extras]) (2.8.0)\n",
            "Requirement already satisfied: google-pasta>=0.1.1 in /usr/local/lib/python3.7/dist-packages (from tensorflow->sktime[all_extras]) (0.2.0)\n",
            "Requirement already satisfied: tf-estimator-nightly==2.8.0.dev2021122109 in /usr/local/lib/python3.7/dist-packages (from tensorflow->sktime[all_extras]) (2.8.0.dev2021122109)\n",
            "Requirement already satisfied: h5py>=2.9.0 in /usr/local/lib/python3.7/dist-packages (from tensorflow->sktime[all_extras]) (3.1.0)\n",
            "Requirement already satisfied: grpcio<2.0,>=1.24.3 in /usr/local/lib/python3.7/dist-packages (from tensorflow->sktime[all_extras]) (1.44.0)\n",
            "Requirement already satisfied: flatbuffers>=1.12 in /usr/local/lib/python3.7/dist-packages (from tensorflow->sktime[all_extras]) (2.0)\n",
            "Requirement already satisfied: astunparse>=1.6.0 in /usr/local/lib/python3.7/dist-packages (from tensorflow->sktime[all_extras]) (1.6.3)\n",
            "Requirement already satisfied: libclang>=9.0.1 in /usr/local/lib/python3.7/dist-packages (from tensorflow->sktime[all_extras]) (13.0.0)\n",
            "Requirement already satisfied: tensorflow-io-gcs-filesystem>=0.23.1 in /usr/local/lib/python3.7/dist-packages (from tensorflow->sktime[all_extras]) (0.24.0)\n",
            "Requirement already satisfied: termcolor>=1.1.0 in /usr/local/lib/python3.7/dist-packages (from tensorflow->sktime[all_extras]) (1.1.0)\n",
            "Requirement already satisfied: gast>=0.2.1 in /usr/local/lib/python3.7/dist-packages (from tensorflow->sktime[all_extras]) (0.5.3)\n",
            "Requirement already satisfied: opt-einsum>=2.3.2 in /usr/local/lib/python3.7/dist-packages (from tensorflow->sktime[all_extras]) (3.3.0)\n",
            "Requirement already satisfied: keras<2.9,>=2.8.0rc0 in /usr/local/lib/python3.7/dist-packages (from tensorflow->sktime[all_extras]) (2.8.0)\n",
            "Requirement already satisfied: wheel<1.0,>=0.23.0 in /usr/local/lib/python3.7/dist-packages (from astunparse>=1.6.0->tensorflow->sktime[all_extras]) (0.37.1)\n",
            "Requirement already satisfied: cached-property in /usr/local/lib/python3.7/dist-packages (from h5py>=2.9.0->tensorflow->sktime[all_extras]) (1.5.2)\n",
            "Requirement already satisfied: tensorboard-plugin-wit>=1.6.0 in /usr/local/lib/python3.7/dist-packages (from tensorboard<2.9,>=2.8->tensorflow->sktime[all_extras]) (1.8.1)\n",
            "Requirement already satisfied: tensorboard-data-server<0.7.0,>=0.6.0 in /usr/local/lib/python3.7/dist-packages (from tensorboard<2.9,>=2.8->tensorflow->sktime[all_extras]) (0.6.1)\n",
            "Requirement already satisfied: markdown>=2.6.8 in /usr/local/lib/python3.7/dist-packages (from tensorboard<2.9,>=2.8->tensorflow->sktime[all_extras]) (3.3.6)\n",
            "Requirement already satisfied: google-auth-oauthlib<0.5,>=0.4.1 in /usr/local/lib/python3.7/dist-packages (from tensorboard<2.9,>=2.8->tensorflow->sktime[all_extras]) (0.4.6)\n",
            "Requirement already satisfied: google-auth<3,>=1.6.3 in /usr/local/lib/python3.7/dist-packages (from tensorboard<2.9,>=2.8->tensorflow->sktime[all_extras]) (1.35.0)\n",
            "Requirement already satisfied: werkzeug>=0.11.15 in /usr/local/lib/python3.7/dist-packages (from tensorboard<2.9,>=2.8->tensorflow->sktime[all_extras]) (1.0.1)\n",
            "Requirement already satisfied: pyasn1-modules>=0.2.1 in /usr/local/lib/python3.7/dist-packages (from google-auth<3,>=1.6.3->tensorboard<2.9,>=2.8->tensorflow->sktime[all_extras]) (0.2.8)\n",
            "Requirement already satisfied: cachetools<5.0,>=2.0.0 in /usr/local/lib/python3.7/dist-packages (from google-auth<3,>=1.6.3->tensorboard<2.9,>=2.8->tensorflow->sktime[all_extras]) (4.2.4)\n",
            "Requirement already satisfied: rsa<5,>=3.1.4 in /usr/local/lib/python3.7/dist-packages (from google-auth<3,>=1.6.3->tensorboard<2.9,>=2.8->tensorflow->sktime[all_extras]) (4.8)\n",
            "Requirement already satisfied: requests-oauthlib>=0.7.0 in /usr/local/lib/python3.7/dist-packages (from google-auth-oauthlib<0.5,>=0.4.1->tensorboard<2.9,>=2.8->tensorflow->sktime[all_extras]) (1.3.1)\n",
            "Requirement already satisfied: pyasn1<0.5.0,>=0.4.6 in /usr/local/lib/python3.7/dist-packages (from pyasn1-modules>=0.2.1->google-auth<3,>=1.6.3->tensorboard<2.9,>=2.8->tensorflow->sktime[all_extras]) (0.4.8)\n",
            "Requirement already satisfied: oauthlib>=3.0.0 in /usr/local/lib/python3.7/dist-packages (from requests-oauthlib>=0.7.0->google-auth-oauthlib<0.5,>=0.4.1->tensorboard<2.9,>=2.8->tensorflow->sktime[all_extras]) (3.2.0)\n",
            "Requirement already satisfied: dm-tree in /usr/local/lib/python3.7/dist-packages (from tensorflow-probability->sktime[all_extras]) (0.1.7)\n",
            "Requirement already satisfied: decorator in /usr/local/lib/python3.7/dist-packages (from tensorflow-probability->sktime[all_extras]) (4.4.2)\n"
          ]
        }
      ],
      "source": [
        "!pip install orbit-ml\n",
        "!pip install prophet\n",
        "!pip install sktime[all_extras]"
      ]
    },
    {
      "cell_type": "code",
      "execution_count": 766,
      "metadata": {
        "id": "37r09zfzFXgE"
      },
      "outputs": [],
      "source": [
        "%matplotlib inline\n",
        "\n",
        "from IPython import display\n",
        "import matplotlib.pyplot as plt\n",
        "\n",
        "import pandas as pd\n",
        "import numpy as np"
      ]
    },
    {
      "cell_type": "markdown",
      "metadata": {
        "id": "CL4IbYsbH_EW"
      },
      "source": [
        "## Задание 1 (1 балл). Поиск и предобработка данных.\n",
        "\n",
        "В этом задании Вам необходимо _самостоятельно_ найти два временных ряда: один должен обладать месячной частотой, а второй — дневной.\n",
        "\n",
        "Мы советуем поискать соответствующие временные ряды на платформе [kaggle](https://www.kaggle.com/datasets) или же взять один из [популярных](https://medium.com/analytics-vidhya/10-time-series-datasets-for-practice-d14fec9f21bc) временных рядов для анализа. \n",
        "\n",
        "**Не рекомендуется** использовать в качестве временных рядов цены финансовых инструментов в силу плохой предсказуемости изменения цен. **Запрещается** использовать готовые наборы данных из библиотек для анализа временных рядов, например, `from orbit.utils.dataset import load_iclaims`.\n",
        "\n",
        "![bitcoin](https://avatars.mds.yandex.net/get-zen_doc/3417386/pub_6017dd4b8d30cb1780864ae0_6017f4aa8d30cb1780bf66ce/scale_1200)\n",
        "\n",
        "\n",
        "\n",
        "\n",
        "В качестве отчета по заданию:\n",
        "\n",
        "* Опишите источники временных рядов (ссылки на страницы скачивания). В случае, если данные требовали дополнительной обработки, приведите код этой обработки, загрузите данные в личное облачное хранилище и приведите ссылку на скачивание. Процесс получения временных рядов должен быть **четко** расписан и полностью **воспроизводиться**. \n",
        "\n",
        "* Приведите код считывания временных рядов из файлов и разделения на train/test. Соотношение размеров train/test на Ваше усмотрение, но мы советуем Вам выбрать 80% на 20%, если в test остаётся хотя бы пара лет наблюдений.\n",
        "\n"
      ]
    },
    {
      "cell_type": "markdown",
      "source": [
        "Месячные данные - https://www.kaggle.com/datasets/tombutton/uk-weather-by-month (там в какой-то момент даты начинают повторяться, поэтому беру только первые 502 даты)\n",
        "\n",
        "Дневные данные - https://www.kaggle.com/datasets/sumanthvrao/daily-climate-time-series-data\n",
        "\n",
        "Все данные выгрузил себе на гитхаб, оттуда и качаю"
      ],
      "metadata": {
        "id": "w1FSZy7mu20P"
      }
    },
    {
      "cell_type": "code",
      "execution_count": 767,
      "metadata": {
        "id": "V4tREl4VFXgG",
        "colab": {
          "base_uri": "https://localhost:8080/"
        },
        "outputId": "373a9868-bc73-4006-f846-293d4aac7167"
      },
      "outputs": [
        {
          "output_type": "stream",
          "name": "stdout",
          "text": [
            "--2022-04-19 16:31:40--  https://raw.githubusercontent.com/Dima-Kalmykov/iad-applied-ds/master/2022/hw/met-office-weather-month.csv\n",
            "Resolving raw.githubusercontent.com (raw.githubusercontent.com)... 185.199.110.133, 185.199.108.133, 185.199.111.133, ...\n",
            "Connecting to raw.githubusercontent.com (raw.githubusercontent.com)|185.199.110.133|:443... connected.\n",
            "HTTP request sent, awaiting response... 200 OK\n",
            "Length: 124682 (122K) [text/plain]\n",
            "Saving to: ‘met-office-weather-month.csv.8’\n",
            "\n",
            "\r          met-offic   0%[                    ]       0  --.-KB/s               \rmet-office-weather- 100%[===================>] 121.76K  --.-KB/s    in 0.02s   \n",
            "\n",
            "2022-04-19 16:31:40 (5.72 MB/s) - ‘met-office-weather-month.csv.8’ saved [124682/124682]\n",
            "\n",
            "--2022-04-19 16:31:40--  https://raw.githubusercontent.com/Dima-Kalmykov/iad-applied-ds/master/2022/hw/DailyDelhiClimateTest.csv\n",
            "Resolving raw.githubusercontent.com (raw.githubusercontent.com)... 185.199.111.133, 185.199.109.133, 185.199.108.133, ...\n",
            "Connecting to raw.githubusercontent.com (raw.githubusercontent.com)|185.199.111.133|:443... connected.\n",
            "HTTP request sent, awaiting response... 200 OK\n",
            "Length: 7100 (6.9K) [text/plain]\n",
            "Saving to: ‘DailyDelhiClimateTest.csv.8’\n",
            "\n",
            "DailyDelhiClimateTe 100%[===================>]   6.93K  --.-KB/s    in 0s      \n",
            "\n",
            "2022-04-19 16:31:41 (55.8 MB/s) - ‘DailyDelhiClimateTest.csv.8’ saved [7100/7100]\n",
            "\n",
            "--2022-04-19 16:31:41--  https://raw.githubusercontent.com/Dima-Kalmykov/iad-applied-ds/master/2022/hw/DailyDelhiClimateTrain.csv\n",
            "Resolving raw.githubusercontent.com (raw.githubusercontent.com)... 185.199.108.133, 185.199.109.133, 185.199.110.133, ...\n",
            "Connecting to raw.githubusercontent.com (raw.githubusercontent.com)|185.199.108.133|:443... connected.\n",
            "HTTP request sent, awaiting response... 200 OK\n",
            "Length: 78199 (76K) [text/plain]\n",
            "Saving to: ‘DailyDelhiClimateTrain.csv.8’\n",
            "\n",
            "DailyDelhiClimateTr 100%[===================>]  76.37K  --.-KB/s    in 0.01s   \n",
            "\n",
            "2022-04-19 16:31:41 (6.27 MB/s) - ‘DailyDelhiClimateTrain.csv.8’ saved [78199/78199]\n",
            "\n"
          ]
        }
      ],
      "source": [
        "# скачаем данные\n",
        "!wget 'https://raw.githubusercontent.com/Dima-Kalmykov/iad-applied-ds/master/2022/hw/met-office-weather-month.csv'\n",
        "!wget 'https://raw.githubusercontent.com/Dima-Kalmykov/iad-applied-ds/master/2022/hw/DailyDelhiClimateTest.csv'\n",
        "!wget 'https://raw.githubusercontent.com/Dima-Kalmykov/iad-applied-ds/master/2022/hw/DailyDelhiClimateTrain.csv'"
      ]
    },
    {
      "cell_type": "code",
      "execution_count": 966,
      "metadata": {
        "id": "kCsOPjrAgs62"
      },
      "outputs": [],
      "source": [
        "# считаем файлы\n",
        "ts1 = pd.read_csv(\"met-office-weather-month.csv\")[:502]\n",
        "ts2_test = pd.read_csv(\"DailyDelhiClimateTest.csv\")\n",
        "ts2_train =  pd.read_csv(\"DailyDelhiClimateTrain.csv\")"
      ]
    },
    {
      "cell_type": "code",
      "source": [
        "def create_date(row):\n",
        "    new_month_value = str(row.month)\n",
        "    if row.month < 10:\n",
        "      new_month_value = f'0{row.month}'\n",
        "    \n",
        "    date = str(row.year) + '-' + new_month_value\n",
        "\n",
        "    return pd.to_datetime(date)\n",
        "\n",
        "ts1['date'] = ts1.apply(create_date, axis=1) # создаю столбец с датой, как год-месяц\n",
        "first_column = ts1.pop('date')  \n",
        "ts1.insert(0, 'date', first_column) # вставляю date на первое место\n",
        "ts1 = ts1[['date', 'rain']]\n",
        "ts1 = ts1[ts1['rain'].notna()] # убираю Nan\n",
        "ts1.head()"
      ],
      "metadata": {
        "colab": {
          "base_uri": "https://localhost:8080/",
          "height": 206
        },
        "id": "PVcuLxKcceAb",
        "outputId": "6c346598-2e5b-47b8-c578-7f961b533759"
      },
      "execution_count": 967,
      "outputs": [
        {
          "output_type": "execute_result",
          "data": {
            "text/plain": [
              "        date   rain\n",
              "0 1978-09-01   26.7\n",
              "1 1978-10-01   20.4\n",
              "2 1978-11-01   56.3\n",
              "3 1978-12-01  276.7\n",
              "4 1979-01-01  134.8"
            ],
            "text/html": [
              "\n",
              "  <div id=\"df-a8987541-9d98-4a5a-bb4f-b2f9dcd5727d\">\n",
              "    <div class=\"colab-df-container\">\n",
              "      <div>\n",
              "<style scoped>\n",
              "    .dataframe tbody tr th:only-of-type {\n",
              "        vertical-align: middle;\n",
              "    }\n",
              "\n",
              "    .dataframe tbody tr th {\n",
              "        vertical-align: top;\n",
              "    }\n",
              "\n",
              "    .dataframe thead th {\n",
              "        text-align: right;\n",
              "    }\n",
              "</style>\n",
              "<table border=\"1\" class=\"dataframe\">\n",
              "  <thead>\n",
              "    <tr style=\"text-align: right;\">\n",
              "      <th></th>\n",
              "      <th>date</th>\n",
              "      <th>rain</th>\n",
              "    </tr>\n",
              "  </thead>\n",
              "  <tbody>\n",
              "    <tr>\n",
              "      <th>0</th>\n",
              "      <td>1978-09-01</td>\n",
              "      <td>26.7</td>\n",
              "    </tr>\n",
              "    <tr>\n",
              "      <th>1</th>\n",
              "      <td>1978-10-01</td>\n",
              "      <td>20.4</td>\n",
              "    </tr>\n",
              "    <tr>\n",
              "      <th>2</th>\n",
              "      <td>1978-11-01</td>\n",
              "      <td>56.3</td>\n",
              "    </tr>\n",
              "    <tr>\n",
              "      <th>3</th>\n",
              "      <td>1978-12-01</td>\n",
              "      <td>276.7</td>\n",
              "    </tr>\n",
              "    <tr>\n",
              "      <th>4</th>\n",
              "      <td>1979-01-01</td>\n",
              "      <td>134.8</td>\n",
              "    </tr>\n",
              "  </tbody>\n",
              "</table>\n",
              "</div>\n",
              "      <button class=\"colab-df-convert\" onclick=\"convertToInteractive('df-a8987541-9d98-4a5a-bb4f-b2f9dcd5727d')\"\n",
              "              title=\"Convert this dataframe to an interactive table.\"\n",
              "              style=\"display:none;\">\n",
              "        \n",
              "  <svg xmlns=\"http://www.w3.org/2000/svg\" height=\"24px\"viewBox=\"0 0 24 24\"\n",
              "       width=\"24px\">\n",
              "    <path d=\"M0 0h24v24H0V0z\" fill=\"none\"/>\n",
              "    <path d=\"M18.56 5.44l.94 2.06.94-2.06 2.06-.94-2.06-.94-.94-2.06-.94 2.06-2.06.94zm-11 1L8.5 8.5l.94-2.06 2.06-.94-2.06-.94L8.5 2.5l-.94 2.06-2.06.94zm10 10l.94 2.06.94-2.06 2.06-.94-2.06-.94-.94-2.06-.94 2.06-2.06.94z\"/><path d=\"M17.41 7.96l-1.37-1.37c-.4-.4-.92-.59-1.43-.59-.52 0-1.04.2-1.43.59L10.3 9.45l-7.72 7.72c-.78.78-.78 2.05 0 2.83L4 21.41c.39.39.9.59 1.41.59.51 0 1.02-.2 1.41-.59l7.78-7.78 2.81-2.81c.8-.78.8-2.07 0-2.86zM5.41 20L4 18.59l7.72-7.72 1.47 1.35L5.41 20z\"/>\n",
              "  </svg>\n",
              "      </button>\n",
              "      \n",
              "  <style>\n",
              "    .colab-df-container {\n",
              "      display:flex;\n",
              "      flex-wrap:wrap;\n",
              "      gap: 12px;\n",
              "    }\n",
              "\n",
              "    .colab-df-convert {\n",
              "      background-color: #E8F0FE;\n",
              "      border: none;\n",
              "      border-radius: 50%;\n",
              "      cursor: pointer;\n",
              "      display: none;\n",
              "      fill: #1967D2;\n",
              "      height: 32px;\n",
              "      padding: 0 0 0 0;\n",
              "      width: 32px;\n",
              "    }\n",
              "\n",
              "    .colab-df-convert:hover {\n",
              "      background-color: #E2EBFA;\n",
              "      box-shadow: 0px 1px 2px rgba(60, 64, 67, 0.3), 0px 1px 3px 1px rgba(60, 64, 67, 0.15);\n",
              "      fill: #174EA6;\n",
              "    }\n",
              "\n",
              "    [theme=dark] .colab-df-convert {\n",
              "      background-color: #3B4455;\n",
              "      fill: #D2E3FC;\n",
              "    }\n",
              "\n",
              "    [theme=dark] .colab-df-convert:hover {\n",
              "      background-color: #434B5C;\n",
              "      box-shadow: 0px 1px 3px 1px rgba(0, 0, 0, 0.15);\n",
              "      filter: drop-shadow(0px 1px 2px rgba(0, 0, 0, 0.3));\n",
              "      fill: #FFFFFF;\n",
              "    }\n",
              "  </style>\n",
              "\n",
              "      <script>\n",
              "        const buttonEl =\n",
              "          document.querySelector('#df-a8987541-9d98-4a5a-bb4f-b2f9dcd5727d button.colab-df-convert');\n",
              "        buttonEl.style.display =\n",
              "          google.colab.kernel.accessAllowed ? 'block' : 'none';\n",
              "\n",
              "        async function convertToInteractive(key) {\n",
              "          const element = document.querySelector('#df-a8987541-9d98-4a5a-bb4f-b2f9dcd5727d');\n",
              "          const dataTable =\n",
              "            await google.colab.kernel.invokeFunction('convertToInteractive',\n",
              "                                                     [key], {});\n",
              "          if (!dataTable) return;\n",
              "\n",
              "          const docLinkHtml = 'Like what you see? Visit the ' +\n",
              "            '<a target=\"_blank\" href=https://colab.research.google.com/notebooks/data_table.ipynb>data table notebook</a>'\n",
              "            + ' to learn more about interactive tables.';\n",
              "          element.innerHTML = '';\n",
              "          dataTable['output_type'] = 'display_data';\n",
              "          await google.colab.output.renderOutput(dataTable, element);\n",
              "          const docLink = document.createElement('div');\n",
              "          docLink.innerHTML = docLinkHtml;\n",
              "          element.appendChild(docLink);\n",
              "        }\n",
              "      </script>\n",
              "    </div>\n",
              "  </div>\n",
              "  "
            ]
          },
          "metadata": {},
          "execution_count": 967
        }
      ]
    },
    {
      "cell_type": "code",
      "source": [
        "ts2_train['date'] = pd.to_datetime(ts2_train['date'])\n",
        "ts2_test['date'] = pd.to_datetime(ts2_test['date'])"
      ],
      "metadata": {
        "id": "-P02ycBZcfLi"
      },
      "execution_count": 968,
      "outputs": []
    },
    {
      "cell_type": "code",
      "source": [
        "ts1.tail()"
      ],
      "metadata": {
        "colab": {
          "base_uri": "https://localhost:8080/",
          "height": 206
        },
        "id": "HphQcZ6Pcf3w",
        "outputId": "6c20e8cf-bf2b-460b-c9cd-6e08c58ebd0a"
      },
      "execution_count": 969,
      "outputs": [
        {
          "output_type": "execute_result",
          "data": {
            "text/plain": [
              "          date   rain\n",
              "497 2020-02-01  176.0\n",
              "498 2020-03-01   75.8\n",
              "499 2020-04-01   40.0\n",
              "500 2020-05-01   28.8\n",
              "501 2020-06-01  117.0"
            ],
            "text/html": [
              "\n",
              "  <div id=\"df-55df7ef6-804a-48ae-b4f8-0b24b3b2fb76\">\n",
              "    <div class=\"colab-df-container\">\n",
              "      <div>\n",
              "<style scoped>\n",
              "    .dataframe tbody tr th:only-of-type {\n",
              "        vertical-align: middle;\n",
              "    }\n",
              "\n",
              "    .dataframe tbody tr th {\n",
              "        vertical-align: top;\n",
              "    }\n",
              "\n",
              "    .dataframe thead th {\n",
              "        text-align: right;\n",
              "    }\n",
              "</style>\n",
              "<table border=\"1\" class=\"dataframe\">\n",
              "  <thead>\n",
              "    <tr style=\"text-align: right;\">\n",
              "      <th></th>\n",
              "      <th>date</th>\n",
              "      <th>rain</th>\n",
              "    </tr>\n",
              "  </thead>\n",
              "  <tbody>\n",
              "    <tr>\n",
              "      <th>497</th>\n",
              "      <td>2020-02-01</td>\n",
              "      <td>176.0</td>\n",
              "    </tr>\n",
              "    <tr>\n",
              "      <th>498</th>\n",
              "      <td>2020-03-01</td>\n",
              "      <td>75.8</td>\n",
              "    </tr>\n",
              "    <tr>\n",
              "      <th>499</th>\n",
              "      <td>2020-04-01</td>\n",
              "      <td>40.0</td>\n",
              "    </tr>\n",
              "    <tr>\n",
              "      <th>500</th>\n",
              "      <td>2020-05-01</td>\n",
              "      <td>28.8</td>\n",
              "    </tr>\n",
              "    <tr>\n",
              "      <th>501</th>\n",
              "      <td>2020-06-01</td>\n",
              "      <td>117.0</td>\n",
              "    </tr>\n",
              "  </tbody>\n",
              "</table>\n",
              "</div>\n",
              "      <button class=\"colab-df-convert\" onclick=\"convertToInteractive('df-55df7ef6-804a-48ae-b4f8-0b24b3b2fb76')\"\n",
              "              title=\"Convert this dataframe to an interactive table.\"\n",
              "              style=\"display:none;\">\n",
              "        \n",
              "  <svg xmlns=\"http://www.w3.org/2000/svg\" height=\"24px\"viewBox=\"0 0 24 24\"\n",
              "       width=\"24px\">\n",
              "    <path d=\"M0 0h24v24H0V0z\" fill=\"none\"/>\n",
              "    <path d=\"M18.56 5.44l.94 2.06.94-2.06 2.06-.94-2.06-.94-.94-2.06-.94 2.06-2.06.94zm-11 1L8.5 8.5l.94-2.06 2.06-.94-2.06-.94L8.5 2.5l-.94 2.06-2.06.94zm10 10l.94 2.06.94-2.06 2.06-.94-2.06-.94-.94-2.06-.94 2.06-2.06.94z\"/><path d=\"M17.41 7.96l-1.37-1.37c-.4-.4-.92-.59-1.43-.59-.52 0-1.04.2-1.43.59L10.3 9.45l-7.72 7.72c-.78.78-.78 2.05 0 2.83L4 21.41c.39.39.9.59 1.41.59.51 0 1.02-.2 1.41-.59l7.78-7.78 2.81-2.81c.8-.78.8-2.07 0-2.86zM5.41 20L4 18.59l7.72-7.72 1.47 1.35L5.41 20z\"/>\n",
              "  </svg>\n",
              "      </button>\n",
              "      \n",
              "  <style>\n",
              "    .colab-df-container {\n",
              "      display:flex;\n",
              "      flex-wrap:wrap;\n",
              "      gap: 12px;\n",
              "    }\n",
              "\n",
              "    .colab-df-convert {\n",
              "      background-color: #E8F0FE;\n",
              "      border: none;\n",
              "      border-radius: 50%;\n",
              "      cursor: pointer;\n",
              "      display: none;\n",
              "      fill: #1967D2;\n",
              "      height: 32px;\n",
              "      padding: 0 0 0 0;\n",
              "      width: 32px;\n",
              "    }\n",
              "\n",
              "    .colab-df-convert:hover {\n",
              "      background-color: #E2EBFA;\n",
              "      box-shadow: 0px 1px 2px rgba(60, 64, 67, 0.3), 0px 1px 3px 1px rgba(60, 64, 67, 0.15);\n",
              "      fill: #174EA6;\n",
              "    }\n",
              "\n",
              "    [theme=dark] .colab-df-convert {\n",
              "      background-color: #3B4455;\n",
              "      fill: #D2E3FC;\n",
              "    }\n",
              "\n",
              "    [theme=dark] .colab-df-convert:hover {\n",
              "      background-color: #434B5C;\n",
              "      box-shadow: 0px 1px 3px 1px rgba(0, 0, 0, 0.15);\n",
              "      filter: drop-shadow(0px 1px 2px rgba(0, 0, 0, 0.3));\n",
              "      fill: #FFFFFF;\n",
              "    }\n",
              "  </style>\n",
              "\n",
              "      <script>\n",
              "        const buttonEl =\n",
              "          document.querySelector('#df-55df7ef6-804a-48ae-b4f8-0b24b3b2fb76 button.colab-df-convert');\n",
              "        buttonEl.style.display =\n",
              "          google.colab.kernel.accessAllowed ? 'block' : 'none';\n",
              "\n",
              "        async function convertToInteractive(key) {\n",
              "          const element = document.querySelector('#df-55df7ef6-804a-48ae-b4f8-0b24b3b2fb76');\n",
              "          const dataTable =\n",
              "            await google.colab.kernel.invokeFunction('convertToInteractive',\n",
              "                                                     [key], {});\n",
              "          if (!dataTable) return;\n",
              "\n",
              "          const docLinkHtml = 'Like what you see? Visit the ' +\n",
              "            '<a target=\"_blank\" href=https://colab.research.google.com/notebooks/data_table.ipynb>data table notebook</a>'\n",
              "            + ' to learn more about interactive tables.';\n",
              "          element.innerHTML = '';\n",
              "          dataTable['output_type'] = 'display_data';\n",
              "          await google.colab.output.renderOutput(dataTable, element);\n",
              "          const docLink = document.createElement('div');\n",
              "          docLink.innerHTML = docLinkHtml;\n",
              "          element.appendChild(docLink);\n",
              "        }\n",
              "      </script>\n",
              "    </div>\n",
              "  </div>\n",
              "  "
            ]
          },
          "metadata": {},
          "execution_count": 969
        }
      ]
    },
    {
      "cell_type": "code",
      "source": [
        "# test_share = len(ts2_test) / (len(ts2_test) + len(ts2_train))\n",
        "test_share = 0.2\n",
        "\n",
        "threshold = int(len(ts1) * (1 - test_share))\n",
        "ts1_train = ts1[:threshold]\n",
        "ts1_test = ts1[threshold:]\n",
        "\n",
        "print(len(ts1_train), len(ts1_test))"
      ],
      "metadata": {
        "colab": {
          "base_uri": "https://localhost:8080/"
        },
        "id": "2vdHeTJOchCc",
        "outputId": "025bffff-a924-45c2-8b9a-ce2b8daef0cc"
      },
      "execution_count": 970,
      "outputs": [
        {
          "output_type": "stream",
          "name": "stdout",
          "text": [
            "401 101\n"
          ]
        }
      ]
    },
    {
      "cell_type": "code",
      "source": [
        "ts2_train.head()"
      ],
      "metadata": {
        "colab": {
          "base_uri": "https://localhost:8080/",
          "height": 206
        },
        "id": "SAly7Faichzd",
        "outputId": "f312d1f3-a2f9-4cb1-b393-974e792688fa"
      },
      "execution_count": 971,
      "outputs": [
        {
          "output_type": "execute_result",
          "data": {
            "text/plain": [
              "        date   meantemp   humidity  wind_speed  meanpressure\n",
              "0 2013-01-01  10.000000  84.500000    0.000000   1015.666667\n",
              "1 2013-01-02   7.400000  92.000000    2.980000   1017.800000\n",
              "2 2013-01-03   7.166667  87.000000    4.633333   1018.666667\n",
              "3 2013-01-04   8.666667  71.333333    1.233333   1017.166667\n",
              "4 2013-01-05   6.000000  86.833333    3.700000   1016.500000"
            ],
            "text/html": [
              "\n",
              "  <div id=\"df-7e1dd463-af3a-42e6-b8da-2e8c8b72ea8a\">\n",
              "    <div class=\"colab-df-container\">\n",
              "      <div>\n",
              "<style scoped>\n",
              "    .dataframe tbody tr th:only-of-type {\n",
              "        vertical-align: middle;\n",
              "    }\n",
              "\n",
              "    .dataframe tbody tr th {\n",
              "        vertical-align: top;\n",
              "    }\n",
              "\n",
              "    .dataframe thead th {\n",
              "        text-align: right;\n",
              "    }\n",
              "</style>\n",
              "<table border=\"1\" class=\"dataframe\">\n",
              "  <thead>\n",
              "    <tr style=\"text-align: right;\">\n",
              "      <th></th>\n",
              "      <th>date</th>\n",
              "      <th>meantemp</th>\n",
              "      <th>humidity</th>\n",
              "      <th>wind_speed</th>\n",
              "      <th>meanpressure</th>\n",
              "    </tr>\n",
              "  </thead>\n",
              "  <tbody>\n",
              "    <tr>\n",
              "      <th>0</th>\n",
              "      <td>2013-01-01</td>\n",
              "      <td>10.000000</td>\n",
              "      <td>84.500000</td>\n",
              "      <td>0.000000</td>\n",
              "      <td>1015.666667</td>\n",
              "    </tr>\n",
              "    <tr>\n",
              "      <th>1</th>\n",
              "      <td>2013-01-02</td>\n",
              "      <td>7.400000</td>\n",
              "      <td>92.000000</td>\n",
              "      <td>2.980000</td>\n",
              "      <td>1017.800000</td>\n",
              "    </tr>\n",
              "    <tr>\n",
              "      <th>2</th>\n",
              "      <td>2013-01-03</td>\n",
              "      <td>7.166667</td>\n",
              "      <td>87.000000</td>\n",
              "      <td>4.633333</td>\n",
              "      <td>1018.666667</td>\n",
              "    </tr>\n",
              "    <tr>\n",
              "      <th>3</th>\n",
              "      <td>2013-01-04</td>\n",
              "      <td>8.666667</td>\n",
              "      <td>71.333333</td>\n",
              "      <td>1.233333</td>\n",
              "      <td>1017.166667</td>\n",
              "    </tr>\n",
              "    <tr>\n",
              "      <th>4</th>\n",
              "      <td>2013-01-05</td>\n",
              "      <td>6.000000</td>\n",
              "      <td>86.833333</td>\n",
              "      <td>3.700000</td>\n",
              "      <td>1016.500000</td>\n",
              "    </tr>\n",
              "  </tbody>\n",
              "</table>\n",
              "</div>\n",
              "      <button class=\"colab-df-convert\" onclick=\"convertToInteractive('df-7e1dd463-af3a-42e6-b8da-2e8c8b72ea8a')\"\n",
              "              title=\"Convert this dataframe to an interactive table.\"\n",
              "              style=\"display:none;\">\n",
              "        \n",
              "  <svg xmlns=\"http://www.w3.org/2000/svg\" height=\"24px\"viewBox=\"0 0 24 24\"\n",
              "       width=\"24px\">\n",
              "    <path d=\"M0 0h24v24H0V0z\" fill=\"none\"/>\n",
              "    <path d=\"M18.56 5.44l.94 2.06.94-2.06 2.06-.94-2.06-.94-.94-2.06-.94 2.06-2.06.94zm-11 1L8.5 8.5l.94-2.06 2.06-.94-2.06-.94L8.5 2.5l-.94 2.06-2.06.94zm10 10l.94 2.06.94-2.06 2.06-.94-2.06-.94-.94-2.06-.94 2.06-2.06.94z\"/><path d=\"M17.41 7.96l-1.37-1.37c-.4-.4-.92-.59-1.43-.59-.52 0-1.04.2-1.43.59L10.3 9.45l-7.72 7.72c-.78.78-.78 2.05 0 2.83L4 21.41c.39.39.9.59 1.41.59.51 0 1.02-.2 1.41-.59l7.78-7.78 2.81-2.81c.8-.78.8-2.07 0-2.86zM5.41 20L4 18.59l7.72-7.72 1.47 1.35L5.41 20z\"/>\n",
              "  </svg>\n",
              "      </button>\n",
              "      \n",
              "  <style>\n",
              "    .colab-df-container {\n",
              "      display:flex;\n",
              "      flex-wrap:wrap;\n",
              "      gap: 12px;\n",
              "    }\n",
              "\n",
              "    .colab-df-convert {\n",
              "      background-color: #E8F0FE;\n",
              "      border: none;\n",
              "      border-radius: 50%;\n",
              "      cursor: pointer;\n",
              "      display: none;\n",
              "      fill: #1967D2;\n",
              "      height: 32px;\n",
              "      padding: 0 0 0 0;\n",
              "      width: 32px;\n",
              "    }\n",
              "\n",
              "    .colab-df-convert:hover {\n",
              "      background-color: #E2EBFA;\n",
              "      box-shadow: 0px 1px 2px rgba(60, 64, 67, 0.3), 0px 1px 3px 1px rgba(60, 64, 67, 0.15);\n",
              "      fill: #174EA6;\n",
              "    }\n",
              "\n",
              "    [theme=dark] .colab-df-convert {\n",
              "      background-color: #3B4455;\n",
              "      fill: #D2E3FC;\n",
              "    }\n",
              "\n",
              "    [theme=dark] .colab-df-convert:hover {\n",
              "      background-color: #434B5C;\n",
              "      box-shadow: 0px 1px 3px 1px rgba(0, 0, 0, 0.15);\n",
              "      filter: drop-shadow(0px 1px 2px rgba(0, 0, 0, 0.3));\n",
              "      fill: #FFFFFF;\n",
              "    }\n",
              "  </style>\n",
              "\n",
              "      <script>\n",
              "        const buttonEl =\n",
              "          document.querySelector('#df-7e1dd463-af3a-42e6-b8da-2e8c8b72ea8a button.colab-df-convert');\n",
              "        buttonEl.style.display =\n",
              "          google.colab.kernel.accessAllowed ? 'block' : 'none';\n",
              "\n",
              "        async function convertToInteractive(key) {\n",
              "          const element = document.querySelector('#df-7e1dd463-af3a-42e6-b8da-2e8c8b72ea8a');\n",
              "          const dataTable =\n",
              "            await google.colab.kernel.invokeFunction('convertToInteractive',\n",
              "                                                     [key], {});\n",
              "          if (!dataTable) return;\n",
              "\n",
              "          const docLinkHtml = 'Like what you see? Visit the ' +\n",
              "            '<a target=\"_blank\" href=https://colab.research.google.com/notebooks/data_table.ipynb>data table notebook</a>'\n",
              "            + ' to learn more about interactive tables.';\n",
              "          element.innerHTML = '';\n",
              "          dataTable['output_type'] = 'display_data';\n",
              "          await google.colab.output.renderOutput(dataTable, element);\n",
              "          const docLink = document.createElement('div');\n",
              "          docLink.innerHTML = docLinkHtml;\n",
              "          element.appendChild(docLink);\n",
              "        }\n",
              "      </script>\n",
              "    </div>\n",
              "  </div>\n",
              "  "
            ]
          },
          "metadata": {},
          "execution_count": 971
        }
      ]
    },
    {
      "cell_type": "code",
      "source": [
        "ts2_train = ts2_train[['date', 'meantemp']]\n",
        "ts2_test = ts2_test[['date', 'meantemp']]\n",
        "\n",
        "print(len(ts2_train), len(ts2_test))"
      ],
      "metadata": {
        "colab": {
          "base_uri": "https://localhost:8080/"
        },
        "id": "-IZm9Epmcis9",
        "outputId": "bf437a10-4eba-42a4-ceea-a00d63407e6e"
      },
      "execution_count": 972,
      "outputs": [
        {
          "output_type": "stream",
          "name": "stdout",
          "text": [
            "1462 114\n"
          ]
        }
      ]
    },
    {
      "cell_type": "markdown",
      "metadata": {
        "id": "lotD7Qf7kgYD"
      },
      "source": [
        "## Задание 2. Анализ временных рядов (1 балл).\n",
        "\n",
        "* Отрисуйте временные ряды и визуально сделайте различимым разбиение на выборки — либо вертикальной чертой, либо разными цветами.\n",
        "\n",
        "* Постройте графики [автокорреляционных функций](https://www.machinelearningmastery.ru/time-series-in-python-exponential-smoothing-and-arima-processes-2c67f2a52788/) для выбранных временных рядов. Прокомментируйте их: являются ли временные ряды сезонными? Видна ли на графиках длина сезонной составляющей ряда?\n",
        "\n",
        "* В случае присутствия сезонности, разбейте временной ряд на повторяющиеся фрагменты и нарисуйте их наложенными для иллюстрации этой сезонности."
      ]
    },
    {
      "cell_type": "code",
      "execution_count": 973,
      "metadata": {
        "id": "-OQ0Jnp0eNrA"
      },
      "outputs": [],
      "source": [
        "# отрисуем временные ряды\n",
        "# plt.figure(figsize=(12, 4))\n",
        "# plt.plot(..., ...)\n",
        "# plt.xlabel('Time')\n",
        "# plt.show()"
      ]
    },
    {
      "cell_type": "code",
      "execution_count": 974,
      "metadata": {
        "id": "1GITHbTNe5MC"
      },
      "outputs": [],
      "source": [
        "# посчитайте и нарисуйте график автокорреляционной функции\n",
        "# hint, используйте для этого np.correlate(..., mode='full')"
      ]
    },
    {
      "cell_type": "code",
      "execution_count": 975,
      "metadata": {
        "id": "1wKGSLD3fkJg"
      },
      "outputs": [],
      "source": [
        "# разбейте временной ряд на повторяющиеся участки по длине сезонной составляющей и нарисуйте их наложенными"
      ]
    },
    {
      "cell_type": "markdown",
      "metadata": {
        "id": "5G8-l8yuRNLL"
      },
      "source": [
        "## Задание 3. Предсказание месячного временного ряда (4 балла).\n",
        "\n",
        "В этом задании Вам предстоит попробовать предсказать месячный временной ряд несколькими готовыми моделями со скользящим или растущим окном и выбрать среди них наилучшую.\n",
        "\n",
        "В качестве метрики сравнения используйте MAE между истинными и предсказанными значениями ряда на тестовом отрезке."
      ]
    },
    {
      "cell_type": "markdown",
      "metadata": {
        "id": "dCrUK4uqjm5r"
      },
      "source": [
        "### NaiveForecaster из sktime (1 балл).\n",
        "\n",
        "Посчитайте предсказания следующими двумя наивными способами:\n",
        "\n",
        "* $\\hat{y}_{t+1} = y_{t}$\n",
        "* $\\hat{y}_{t+1} = y_{t-seasonality+1}$"
      ]
    },
    {
      "cell_type": "code",
      "execution_count": 976,
      "metadata": {
        "id": "_IoFNGRekGUB"
      },
      "outputs": [],
      "source": [
        "from sktime.forecasting.naive import NaiveForecaster\n",
        "from sktime.forecasting.base import ForecastingHorizon\n",
        "from sklearn.metrics import mean_absolute_error as mae\n",
        "\n",
        "forecasting_horizon = ForecastingHorizon(ts1_test.index, is_relative=False)"
      ]
    },
    {
      "cell_type": "code",
      "source": [
        "test_rain = ts1_test['rain']\n",
        "train_rain = ts1_train['rain']\n",
        "best_mae = 100"
      ],
      "metadata": {
        "id": "2RTGLzgacrYi"
      },
      "execution_count": 977,
      "outputs": []
    },
    {
      "cell_type": "code",
      "source": [
        "def check_mae(cur_mae, predicted_data):\n",
        "    global best_mae\n",
        "    global best_predicted\n",
        "\n",
        "    if best_mae > cur_mae:\n",
        "        best_mae = cur_mae\n",
        "        best_predicted = predicted_data"
      ],
      "metadata": {
        "id": "42LT-QC7d7-U"
      },
      "execution_count": 978,
      "outputs": []
    },
    {
      "cell_type": "code",
      "source": [
        "native_forecaster = NaiveForecaster(strategy=\"last\")\n",
        "native_forecaster.fit(train_rain)"
      ],
      "metadata": {
        "colab": {
          "base_uri": "https://localhost:8080/"
        },
        "id": "tbnLQHW-crdh",
        "outputId": "cceadad0-d7be-428d-8147-c85f1b6bfe57"
      },
      "execution_count": 979,
      "outputs": [
        {
          "output_type": "execute_result",
          "data": {
            "text/plain": [
              "NaiveForecaster()"
            ]
          },
          "metadata": {},
          "execution_count": 979
        }
      ]
    },
    {
      "cell_type": "code",
      "source": [
        "ts1_predicted = native_forecaster.predict(forecasting_horizon)\n",
        "cur_mae = mae(test_rain, ts1_predicted)\n",
        "cur_mae"
      ],
      "metadata": {
        "colab": {
          "base_uri": "https://localhost:8080/"
        },
        "id": "00qq_mzvcrgd",
        "outputId": "0f01d41f-ec31-42c1-c110-3cd0c1dcb5e4"
      },
      "execution_count": 980,
      "outputs": [
        {
          "output_type": "execute_result",
          "data": {
            "text/plain": [
              "52.5079207920792"
            ]
          },
          "metadata": {},
          "execution_count": 980
        }
      ]
    },
    {
      "cell_type": "code",
      "source": [
        "check_mae(cur_mae, ts1_predicted)"
      ],
      "metadata": {
        "id": "unJLSYeCdzvc"
      },
      "execution_count": 981,
      "outputs": []
    },
    {
      "cell_type": "code",
      "source": [
        "native_forecaster_season = NaiveForecaster(strategy=\"last\", sp = 12)\n",
        "native_forecaster_season.fit(train_rain)"
      ],
      "metadata": {
        "colab": {
          "base_uri": "https://localhost:8080/"
        },
        "id": "nCCZsUCqcwuw",
        "outputId": "0cf137de-75ed-4a27-c786-86acc9882e40"
      },
      "execution_count": 982,
      "outputs": [
        {
          "output_type": "execute_result",
          "data": {
            "text/plain": [
              "NaiveForecaster(sp=12)"
            ]
          },
          "metadata": {},
          "execution_count": 982
        }
      ]
    },
    {
      "cell_type": "code",
      "source": [
        "ts1_predicted_season = native_forecaster_season.predict(forecasting_horizon)\n",
        "cur_mae = mae(test_rain, ts1_predicted_season)\n",
        "cur_mae"
      ],
      "metadata": {
        "colab": {
          "base_uri": "https://localhost:8080/"
        },
        "id": "2HodNo_2cwxW",
        "outputId": "7a431a63-ee1a-4116-fc7e-6fe4128ccd49"
      },
      "execution_count": 983,
      "outputs": [
        {
          "output_type": "execute_result",
          "data": {
            "text/plain": [
              "48.2841584158416"
            ]
          },
          "metadata": {},
          "execution_count": 983
        }
      ]
    },
    {
      "cell_type": "code",
      "source": [
        "check_mae(cur_mae, ts1_predicted_season)"
      ],
      "metadata": {
        "id": "mar5CRseeM7e"
      },
      "execution_count": 984,
      "outputs": []
    },
    {
      "cell_type": "markdown",
      "metadata": {
        "id": "y0H3pYCmkRJB"
      },
      "source": [
        "### ARIMA/AutoArima (1 балл).\n",
        "\n",
        "Обучите из библиотеки `sktime` модели:\n",
        "\n",
        "* SARIMA(1, 1, 1)(1, 0, 0)[12] (`ARIMA` в `sktime`)\n",
        "* Алгоритм Хиндмана-Хандакара подбора SARIMA (`AutoARIMA` в `sktime`)"
      ]
    },
    {
      "cell_type": "code",
      "execution_count": 985,
      "metadata": {
        "id": "PJZdDAP5kxKD",
        "colab": {
          "base_uri": "https://localhost:8080/"
        },
        "outputId": "8c1f2173-3951-4f86-f1ea-d2a032ef5494"
      },
      "outputs": [
        {
          "output_type": "execute_result",
          "data": {
            "text/plain": [
              "ARIMA(order=(1, 1, 0), seasonal_order=(1, 0, 0, 12))"
            ]
          },
          "metadata": {},
          "execution_count": 985
        }
      ],
      "source": [
        "from sktime.forecasting.arima import ARIMA, AutoARIMA\n",
        "\n",
        "arima = ARIMA(order=(1, 1, 0), seasonal_order=(1, 0, 0, 12))\n",
        "arima.fit(train_rain)"
      ]
    },
    {
      "cell_type": "code",
      "source": [
        "ts1_predicted_arima = arima.predict(forecasting_horizon)\n",
        "cur_mae = mae(test_rain, ts1_predicted_arima)\n",
        "cur_mae"
      ],
      "metadata": {
        "colab": {
          "base_uri": "https://localhost:8080/"
        },
        "id": "MC0pUFFSc9E2",
        "outputId": "2cede13b-9419-4840-b7e4-694b77bda414"
      },
      "execution_count": 986,
      "outputs": [
        {
          "output_type": "execute_result",
          "data": {
            "text/plain": [
              "43.9146146729814"
            ]
          },
          "metadata": {},
          "execution_count": 986
        }
      ]
    },
    {
      "cell_type": "code",
      "source": [
        "check_mae(cur_mae, ts1_predicted_arima)"
      ],
      "metadata": {
        "id": "Hd7DDbkFeRq2"
      },
      "execution_count": 987,
      "outputs": []
    },
    {
      "cell_type": "code",
      "source": [
        "auto_arima = AutoARIMA(sp=12)\n",
        "auto_arima.fit(test_rain)"
      ],
      "metadata": {
        "colab": {
          "base_uri": "https://localhost:8080/"
        },
        "id": "_Pp5QiS4c9KI",
        "outputId": "1cc936c2-2f42-482d-a89e-2a7bc28efade"
      },
      "execution_count": 988,
      "outputs": [
        {
          "output_type": "stream",
          "name": "stderr",
          "text": [
            "/usr/local/lib/python3.7/dist-packages/statsmodels/tsa/statespace/sarimax.py:966: UserWarning: Non-stationary starting autoregressive parameters found. Using zeros as starting parameters.\n",
            "  warn('Non-stationary starting autoregressive parameters'\n",
            "/usr/local/lib/python3.7/dist-packages/statsmodels/tsa/statespace/sarimax.py:978: UserWarning: Non-invertible starting MA parameters found. Using zeros as starting parameters.\n",
            "  warn('Non-invertible starting MA parameters found.'\n",
            "/usr/local/lib/python3.7/dist-packages/statsmodels/base/model.py:606: ConvergenceWarning: Maximum Likelihood optimization failed to converge. Check mle_retvals\n",
            "  ConvergenceWarning)\n",
            "/usr/local/lib/python3.7/dist-packages/statsmodels/base/model.py:606: ConvergenceWarning: Maximum Likelihood optimization failed to converge. Check mle_retvals\n",
            "  ConvergenceWarning)\n",
            "/usr/local/lib/python3.7/dist-packages/statsmodels/base/model.py:606: ConvergenceWarning: Maximum Likelihood optimization failed to converge. Check mle_retvals\n",
            "  ConvergenceWarning)\n"
          ]
        },
        {
          "output_type": "execute_result",
          "data": {
            "text/plain": [
              "AutoARIMA(sp=12)"
            ]
          },
          "metadata": {},
          "execution_count": 988
        }
      ]
    },
    {
      "cell_type": "code",
      "source": [
        "ts1_predicted_auto_arima = auto_arima.predict(forecasting_horizon)\n",
        "cur_mae = mae(test_rain, ts1_predicted_auto_arima)\n",
        "cur_mae"
      ],
      "metadata": {
        "colab": {
          "base_uri": "https://localhost:8080/"
        },
        "id": "FtqiK5Pfc9Mj",
        "outputId": "126b2830-2059-4e5e-83f2-493e1cc6aec6"
      },
      "execution_count": 989,
      "outputs": [
        {
          "output_type": "stream",
          "name": "stderr",
          "text": [
            "/usr/local/lib/python3.7/dist-packages/pmdarima/arima/arima.py:692: UserWarning: As of version 1.5.0 'typ' is no longer a valid arg for predict. In future versions this will raise a TypeError.\n",
            "  warnings.warn(\"As of version 1.5.0 'typ' is no longer a valid \"\n"
          ]
        },
        {
          "output_type": "execute_result",
          "data": {
            "text/plain": [
              "42.49982584158709"
            ]
          },
          "metadata": {},
          "execution_count": 989
        }
      ]
    },
    {
      "cell_type": "code",
      "source": [
        "check_mae(cur_mae, ts1_predicted_auto_arima)"
      ],
      "metadata": {
        "id": "s3b1Rca7eZyp"
      },
      "execution_count": 990,
      "outputs": []
    },
    {
      "cell_type": "markdown",
      "metadata": {
        "id": "gStdA0Lelhvc"
      },
      "source": [
        "### LGT/DLT (1 балл).\n",
        "\n",
        "Обучите из библиотеки `orbit` модели LGT и DLT"
      ]
    },
    {
      "cell_type": "code",
      "execution_count": 991,
      "metadata": {
        "id": "4OPLh7ddAVOr",
        "colab": {
          "base_uri": "https://localhost:8080/"
        },
        "outputId": "7f4187ec-fea2-499a-fbb7-17d3ca9f801a"
      },
      "outputs": [
        {
          "output_type": "stream",
          "name": "stderr",
          "text": [
            "WARNING:pystan:Maximum (flat) parameter count (1000) exceeded: skipping diagnostic tests for n_eff and Rhat.\n",
            "To run all diagnostics call pystan.check_hmc_diagnostics(fit)\n"
          ]
        },
        {
          "output_type": "execute_result",
          "data": {
            "text/plain": [
              "<orbit.forecaster.full_bayes.FullBayesianForecaster at 0x7f3f002851d0>"
            ]
          },
          "metadata": {},
          "execution_count": 991
        }
      ],
      "source": [
        "from orbit.models import LGT\n",
        "from orbit.models import DLT\n",
        "\n",
        "dlt = DLT(\n",
        "    response_col='rain', \n",
        "    date_col='date',\n",
        "    seasonality=12,\n",
        ")\n",
        "\n",
        "dlt.fit(ts1_train)"
      ]
    },
    {
      "cell_type": "code",
      "source": [
        "ts1_predicted_dlt = dlt.predict(ts1_test)\n",
        "cur_mae = mae(test_rain, ts1_predicted_dlt['prediction'])\n",
        "cur_mae"
      ],
      "metadata": {
        "colab": {
          "base_uri": "https://localhost:8080/"
        },
        "id": "coUNDFH7ep5n",
        "outputId": "1ef88e57-84fc-49a0-8234-d3ee36ff9680"
      },
      "execution_count": 992,
      "outputs": [
        {
          "output_type": "execute_result",
          "data": {
            "text/plain": [
              "41.59905507781948"
            ]
          },
          "metadata": {},
          "execution_count": 992
        }
      ]
    },
    {
      "cell_type": "code",
      "source": [
        "check_mae(cur_mae, ts1_predicted_dlt['prediction'])"
      ],
      "metadata": {
        "id": "bX-Bvuqcep8U"
      },
      "execution_count": 993,
      "outputs": []
    },
    {
      "cell_type": "code",
      "source": [
        "lgt = LGT(\n",
        "    response_col='rain', \n",
        "    date_col='date',\n",
        "    seasonality=12,\n",
        ")\n",
        "\n",
        "lgt.fit(ts1_train)"
      ],
      "metadata": {
        "colab": {
          "base_uri": "https://localhost:8080/"
        },
        "id": "NrsCVFugeqBV",
        "outputId": "d979e800-7ef9-4681-aeb4-d421394cb2d2"
      },
      "execution_count": 994,
      "outputs": [
        {
          "output_type": "stream",
          "name": "stderr",
          "text": [
            "WARNING:pystan:Maximum (flat) parameter count (1000) exceeded: skipping diagnostic tests for n_eff and Rhat.\n",
            "To run all diagnostics call pystan.check_hmc_diagnostics(fit)\n"
          ]
        },
        {
          "output_type": "execute_result",
          "data": {
            "text/plain": [
              "<orbit.forecaster.full_bayes.FullBayesianForecaster at 0x7f3f01cca850>"
            ]
          },
          "metadata": {},
          "execution_count": 994
        }
      ]
    },
    {
      "cell_type": "code",
      "source": [
        "ts1_predicted_lgt = lgt.predict(ts1_test)\n",
        "cur_mae = mae(test_rain, ts1_predicted_lgt['prediction'])\n",
        "cur_mae"
      ],
      "metadata": {
        "colab": {
          "base_uri": "https://localhost:8080/"
        },
        "id": "zooaEpIQew30",
        "outputId": "2f320ce3-1855-4bf2-e57e-f2fab134520b"
      },
      "execution_count": 995,
      "outputs": [
        {
          "output_type": "execute_result",
          "data": {
            "text/plain": [
              "41.78374983123026"
            ]
          },
          "metadata": {},
          "execution_count": 995
        }
      ]
    },
    {
      "cell_type": "code",
      "source": [
        "check_mae(cur_mae, ts1_predicted_lgt['prediction'])"
      ],
      "metadata": {
        "id": "cICgM3Qkew8i"
      },
      "execution_count": 996,
      "outputs": []
    },
    {
      "cell_type": "markdown",
      "metadata": {
        "id": "djQ5Ej_Ql-tK"
      },
      "source": [
        "### ETS (1 балл).\n",
        "\n",
        "Обучите из библиотеки `sktime` модели:\n",
        "\n",
        "* ETS(AAA) (`ExponentialSmoothing` в `sktime`)\n",
        "* ETS с автоматическим выбором по AIC (`AutoETS` в `sktime`)"
      ]
    },
    {
      "cell_type": "code",
      "source": [
        "from sktime.forecasting.exp_smoothing import ExponentialSmoothing\n",
        "from sktime.forecasting.ets import AutoETS\n",
        "\n",
        "exponential_smoothing = ExponentialSmoothing(trend='add', seasonal='multiplicative', sp=12)\n",
        "exponential_smoothing.fit(train_rain)"
      ],
      "metadata": {
        "colab": {
          "base_uri": "https://localhost:8080/"
        },
        "id": "Hgk-M6zHe-ia",
        "outputId": "5ad7ea68-9183-4d1f-c0f7-e719bdbb320d"
      },
      "execution_count": 997,
      "outputs": [
        {
          "output_type": "execute_result",
          "data": {
            "text/plain": [
              "ExponentialSmoothing(seasonal='multiplicative', sp=12, trend='add')"
            ]
          },
          "metadata": {},
          "execution_count": 997
        }
      ]
    },
    {
      "cell_type": "code",
      "source": [
        "ts1_predicted_smoothing = exponential_smoothing.predict(forecasting_horizon)\n",
        "cur_mae = mae(test_rain, ts1_predicted_smoothing)\n",
        "cur_mae"
      ],
      "metadata": {
        "colab": {
          "base_uri": "https://localhost:8080/"
        },
        "id": "UGekcmotfGDU",
        "outputId": "18b8cac6-e7f1-44fb-aaf7-3e6d5b76a29d"
      },
      "execution_count": 998,
      "outputs": [
        {
          "output_type": "execute_result",
          "data": {
            "text/plain": [
              "45.99091585539378"
            ]
          },
          "metadata": {},
          "execution_count": 998
        }
      ]
    },
    {
      "cell_type": "code",
      "source": [
        "check_mae(cur_mae, ts1_predicted_smoothing)"
      ],
      "metadata": {
        "id": "9DnnUv60fGFs"
      },
      "execution_count": 999,
      "outputs": []
    },
    {
      "cell_type": "code",
      "source": [
        "auto_ets = AutoETS(auto=True, sp=12)\n",
        "auto_ets.fit(train_rain)"
      ],
      "metadata": {
        "colab": {
          "base_uri": "https://localhost:8080/"
        },
        "id": "YJe9X6MsfL2c",
        "outputId": "069c8861-7bee-4d25-8e9a-8cd29f1b4b9b"
      },
      "execution_count": 1000,
      "outputs": [
        {
          "output_type": "execute_result",
          "data": {
            "text/plain": [
              "AutoETS(auto=True, sp=12)"
            ]
          },
          "metadata": {},
          "execution_count": 1000
        }
      ]
    },
    {
      "cell_type": "code",
      "source": [
        "ts1_predicted_auto_ets = auto_ets.predict(forecasting_horizon)\n",
        "cur_mae = mae(test_rain, ts1_predicted_auto_ets)\n",
        "cur_mae"
      ],
      "metadata": {
        "colab": {
          "base_uri": "https://localhost:8080/"
        },
        "id": "-pbQ-4MjfN7U",
        "outputId": "a52ec47e-792f-4a05-c917-fd9ff250da18"
      },
      "execution_count": 1001,
      "outputs": [
        {
          "output_type": "execute_result",
          "data": {
            "text/plain": [
              "38.13606546609454"
            ]
          },
          "metadata": {},
          "execution_count": 1001
        }
      ]
    },
    {
      "cell_type": "markdown",
      "metadata": {
        "id": "VBWcts9zm6_R"
      },
      "source": [
        "Нарисуйте для наилучшей модели предсказания с доверительным интервалом (если модель выдает его) и наложите их на истинные значения. В `sktime` `ETS` модель пока ещё не выдаёт доверительные интервалы, но при желании до них можно дотянуться :)"
      ]
    },
    {
      "cell_type": "code",
      "execution_count": 1002,
      "metadata": {
        "id": "ywyajRSonIld",
        "colab": {
          "base_uri": "https://localhost:8080/",
          "height": 282
        },
        "outputId": "1ea4e86e-e829-49bb-a493-507c2c6f13a9"
      },
      "outputs": [
        {
          "output_type": "execute_result",
          "data": {
            "text/plain": [
              "(<Figure size 1152x288 with 1 Axes>, <AxesSubplot:ylabel='rain'>)"
            ]
          },
          "metadata": {},
          "execution_count": 1002
        },
        {
          "output_type": "display_data",
          "data": {
            "text/plain": [
              "<Figure size 1152x288 with 1 Axes>"
            ],
            "image/png": "[encoded data removed]"
          },
          "metadata": {
            "needs_background": "light"
          }
        }
      ],
      "source": [
        "from sktime.utils.plotting import plot_series\n",
        "\n",
        "\n",
        "best_predicted = pd.DataFrame(best_predicted)\n",
        "best_predicted = best_predicted.set_index([np.arange(len(train_rain), len(test_rain) + len(train_rain))])\n",
        "plot_series(train_rain, test_rain, best_predicted, labels=[\"Train\", \"Test\", \"Predicted\"])"
      ]
    },
    {
      "cell_type": "markdown",
      "metadata": {
        "id": "9zOIFtBCng_F"
      },
      "source": [
        "## Задание 4. Предсказание дневного временного ряда (3 балла).\n",
        "\n",
        "В этом задании Вам предстоит попробовать предсказать выбранный Вами дневной временной ряд.\n",
        "\n",
        "Аналогично, в качестве метрики используем MAE.\n",
        "\n"
      ]
    },
    {
      "cell_type": "markdown",
      "metadata": {
        "id": "yi4Xtcnpn90l"
      },
      "source": [
        "### NaiveForecaster из sktime (1 балл).\n",
        "\n",
        "Посчитайте предсказания следующими двумя наивными способами:\n",
        "\n",
        "* $\\hat{y}_{t+1} = y_{t}$\n",
        "* $\\hat{y}_{t+1} = y_{t-seasonality+1}$"
      ]
    },
    {
      "cell_type": "code",
      "source": [
        "train_meantemp = ts2_train['meantemp']\n",
        "test_meantemp = ts2_test['meantemp']\n",
        "\n",
        "best_mae = 100"
      ],
      "metadata": {
        "id": "rMnO5P0Wk_Vq"
      },
      "execution_count": 1003,
      "outputs": []
    },
    {
      "cell_type": "code",
      "execution_count": 1004,
      "metadata": {
        "id": "nlWt52e6nz6p",
        "colab": {
          "base_uri": "https://localhost:8080/"
        },
        "outputId": "91d86d36-721e-4e85-ad5b-91d4bd40d768"
      },
      "outputs": [
        {
          "output_type": "execute_result",
          "data": {
            "text/plain": [
              "NaiveForecaster()"
            ]
          },
          "metadata": {},
          "execution_count": 1004
        }
      ],
      "source": [
        "from sktime.forecasting.naive import NaiveForecaster\n",
        "\n",
        "native_forecaster = NaiveForecaster(strategy=\"last\")\n",
        "native_forecaster.fit(train_meantemp)"
      ]
    },
    {
      "cell_type": "code",
      "source": [
        "ts2_test = ts2_test.set_index([np.arange(len(train_meantemp), len(train_meantemp) + len(test_meantemp))])\n",
        "forecasting_horizon_day = np.arange(len(test_meantemp))"
      ],
      "metadata": {
        "id": "JBbb2btslFtc"
      },
      "execution_count": 1005,
      "outputs": []
    },
    {
      "cell_type": "code",
      "source": [
        "ts2_predicted = native_forecaster.predict(forecasting_horizon_day)\n",
        "mae(test_meantemp, ts2_predicted)"
      ],
      "metadata": {
        "colab": {
          "base_uri": "https://localhost:8080/"
        },
        "id": "tpJl6nj3lhgT",
        "outputId": "3fe08c01-0a2f-48dd-d4e1-2945328a7f88"
      },
      "execution_count": 1006,
      "outputs": [
        {
          "output_type": "execute_result",
          "data": {
            "text/plain": [
              "11.668757590588353"
            ]
          },
          "metadata": {},
          "execution_count": 1006
        }
      ]
    },
    {
      "cell_type": "code",
      "source": [
        "native_forecaster_day = NaiveForecaster(strategy=\"last\", sp=365)\n",
        "native_forecaster_day.fit(train_meantemp)"
      ],
      "metadata": {
        "colab": {
          "base_uri": "https://localhost:8080/"
        },
        "id": "LIBJ4xPPmFP7",
        "outputId": "ec10400c-8f23-433d-9ecb-54703da552d0"
      },
      "execution_count": 1007,
      "outputs": [
        {
          "output_type": "execute_result",
          "data": {
            "text/plain": [
              "NaiveForecaster(sp=365)"
            ]
          },
          "metadata": {},
          "execution_count": 1007
        }
      ]
    },
    {
      "cell_type": "code",
      "source": [
        "ts2_predicted_day = native_forecaster_day.predict(forecasting_horizon_day)\n",
        "mae(test_meantemp, ts2_predicted_day)"
      ],
      "metadata": {
        "colab": {
          "base_uri": "https://localhost:8080/"
        },
        "id": "wr-N0Q-PmFSb",
        "outputId": "9c6986a0-c25b-41fd-bda6-9d708cce5a0e"
      },
      "execution_count": 1008,
      "outputs": [
        {
          "output_type": "execute_result",
          "data": {
            "text/plain": [
              "2.61496478142647"
            ]
          },
          "metadata": {},
          "execution_count": 1008
        }
      ]
    },
    {
      "cell_type": "markdown",
      "metadata": {
        "id": "F9SxF6cKoHI-"
      },
      "source": [
        "### KTR из orbit (1 балл).\n",
        "\n"
      ]
    },
    {
      "cell_type": "code",
      "execution_count": 1009,
      "metadata": {
        "id": "IM1ELnZnoe_k",
        "colab": {
          "base_uri": "https://localhost:8080/"
        },
        "outputId": "570dcfc4-326d-49c3-bdf9-eba864c007c4"
      },
      "outputs": [
        {
          "output_type": "execute_result",
          "data": {
            "text/plain": [
              "<orbit.forecaster.map.MAPForecaster at 0x7f3efe156a90>"
            ]
          },
          "metadata": {},
          "execution_count": 1009
        }
      ],
      "source": [
        "from orbit.models.ktrlite import KTRLite\n",
        "\n",
        "ktr = KTRLite(\n",
        "    response_col='meantemp', \n",
        "    date_col='date',\n",
        "    seasonality=365,\n",
        ")\n",
        "\n",
        "ktr.fit(ts2_train)"
      ]
    },
    {
      "cell_type": "code",
      "source": [
        "ktr_predicted = ktr.predict(ts2_test)\n",
        "mae(test_meantemp, ktr_predicted['prediction'])"
      ],
      "metadata": {
        "colab": {
          "base_uri": "https://localhost:8080/"
        },
        "id": "p8fr0LyGmw_s",
        "outputId": "6974919b-0555-4afc-a0ff-4cb010743d41"
      },
      "execution_count": 1010,
      "outputs": [
        {
          "output_type": "execute_result",
          "data": {
            "text/plain": [
              "2.049350088524792"
            ]
          },
          "metadata": {},
          "execution_count": 1010
        }
      ]
    },
    {
      "cell_type": "markdown",
      "metadata": {
        "id": "tB4yA3O5pkOG"
      },
      "source": [
        "### Phophet (1 балл).\n",
        "\n"
      ]
    },
    {
      "cell_type": "code",
      "execution_count": 1011,
      "metadata": {
        "id": "vXN-TgC5ps4p",
        "colab": {
          "base_uri": "https://localhost:8080/"
        },
        "outputId": "6fd19035-b2f8-4bec-f1ba-ca0423b24dfd"
      },
      "outputs": [
        {
          "output_type": "stream",
          "name": "stderr",
          "text": [
            "INFO:prophet:Disabling daily seasonality. Run prophet with daily_seasonality=True to override this.\n"
          ]
        },
        {
          "output_type": "execute_result",
          "data": {
            "text/plain": [
              "<prophet.forecaster.Prophet at 0x7f3f0243c5d0>"
            ]
          },
          "metadata": {},
          "execution_count": 1011
        }
      ],
      "source": [
        "from prophet import Prophet\n",
        "\n",
        "ts2_train = ts2_train.rename(columns={'date':'ds', 'meantemp':'y'})\n",
        "ts2_test = ts2_test.rename(columns={'date':'ds', 'meantemp':'y'})\n",
        "\n",
        "prophet = Prophet()\n",
        "prophet.fit(ts2_train)"
      ]
    },
    {
      "cell_type": "code",
      "source": [
        "future = prophet.make_future_dataframe(periods=len(ts2_test))\n",
        "prohnet_predicted = prophet.predict(future)\n",
        "mae(ts2_test['y'], prohnet_predicted[-len(ts2_test):]['yhat'])"
      ],
      "metadata": {
        "colab": {
          "base_uri": "https://localhost:8080/"
        },
        "id": "2T05keC9pGT1",
        "outputId": "4d042d8d-9b77-4aae-82b7-ac6c9b6ea5b6"
      },
      "execution_count": 1012,
      "outputs": [
        {
          "output_type": "execute_result",
          "data": {
            "text/plain": [
              "2.2316499827603504"
            ]
          },
          "metadata": {},
          "execution_count": 1012
        }
      ]
    },
    {
      "cell_type": "code",
      "source": [
        "ts2_train = ts2_train.rename(columns={'ds':'date', 'y':'meantemp'})\n",
        "ts2_test = ts2_test.rename(columns={'ds':'date', 'y':'meantemp'})"
      ],
      "metadata": {
        "id": "KRgGr0UvpGaj"
      },
      "execution_count": 1013,
      "outputs": []
    },
    {
      "cell_type": "markdown",
      "metadata": {
        "id": "h2vnQTxOqR_b"
      },
      "source": [
        "Нарисуйте для наилучшей модели предсказания с доверительным интервалом (если модель выдает его) и наложите их на истинные значения."
      ]
    },
    {
      "cell_type": "code",
      "execution_count": 1015,
      "metadata": {
        "id": "qUR6CFvNqUnA",
        "colab": {
          "base_uri": "https://localhost:8080/",
          "height": 690
        },
        "outputId": "e5f35e62-f1cb-4d4c-8c67-3ad17928b4bc"
      },
      "outputs": [
        {
          "output_type": "display_data",
          "data": {
            "text/plain": [
              "<Figure size 1600x800 with 1 Axes>"
            ],
            "image/png": "[encoded data removed]"
          },
          "metadata": {}
        },
        {
          "output_type": "execute_result",
          "data": {
            "text/plain": [
              "<AxesSubplot:>"
            ]
          },
          "metadata": {},
          "execution_count": 1015
        }
      ],
      "source": [
        "from orbit.diagnostics.plot import plot_predicted_data\n",
        "\n",
        "plot_predicted_data(\n",
        "    training_actual_df=ts2_train, \n",
        "    test_actual_df=ts2_test,\n",
        "    predicted_df=ktr_predicted,\n",
        "    date_col=ktr.date_col, \n",
        "    actual_col=ktr.response_col\n",
        "  )"
      ]
    },
    {
      "cell_type": "markdown",
      "metadata": {
        "id": "zo_3x7Nob5IN"
      },
      "source": [
        "## Задание 5. Предсказание временного ряда моделями машинного обучения (1 балл).\n",
        "\n",
        "Возьмите один из ваших рядов, сформируйте по нему матрицу объект-признак и целевой вектор.\n",
        "\n",
        "Разбейте данные на train/test в той же пропорции, что разбивали в заданиях выше.\n",
        "\n",
        "Обучите различные классические модели машинного обучения и оцените их качество (MAE). \n",
        "\n",
        "Какая из моделей справилась с задачей предсказания лучше всего?"
      ]
    },
    {
      "cell_type": "code",
      "execution_count": 1017,
      "metadata": {
        "id": "LGEK6Q-5b5IN"
      },
      "outputs": [],
      "source": [
        "ts2_test = pd.read_csv(\"DailyDelhiClimateTest.csv\")\n",
        "ts2_train = pd.read_csv(\"DailyDelhiClimateTrain.csv\")"
      ]
    },
    {
      "cell_type": "markdown",
      "metadata": {
        "id": "fUs_-aYFqZMv"
      },
      "source": [
        "## Бонус. Напишите свою модель на STAN (3 балла).\n",
        "\n",
        "Разработайте и испытайте свою модель для месячного ряда в STAN.\n",
        "\n",
        "Сравните качество прогнозов с наивной сезонной моделью на тестовой выборке с помощью MAE. \n",
        "\n",
        "Комментарий: итоговый балл за домашнее задание ставится по формуле минимум(10, ваш суммарный балл за задания)."
      ]
    },
    {
      "cell_type": "code",
      "execution_count": null,
      "metadata": {
        "id": "nC-PRk4eqqqO"
      },
      "outputs": [],
      "source": [
        "# ваш код модели на STAN и её обучения здесь"
      ]
    },
    {
      "cell_type": "code",
      "execution_count": null,
      "metadata": {
        "id": "qssr0cPrqvS_"
      },
      "outputs": [],
      "source": [
        "# посчитайте метрики на test"
      ]
    },
    {
      "cell_type": "code",
      "execution_count": null,
      "metadata": {
        "id": "GgaAFZAyqwhY"
      },
      "outputs": [],
      "source": [
        "# нарисуйте предсказания"
      ]
    },
    {
      "cell_type": "code",
      "execution_count": null,
      "metadata": {
        "id": "2rk-hMQub5IN"
      },
      "outputs": [],
      "source": [
        ""
      ]
    }
  ],
  "metadata": {
    "accelerator": "GPU",
    "colab": {
      "collapsed_sections": [],
      "name": "HW4_unsolved.ipynb",
      "provenance": []
    },
    "kernelspec": {
      "display_name": "Python 3",
      "language": "python",
      "name": "python3"
    },
    "language_info": {
      "codemirror_mode": {
        "name": "ipython",
        "version": 3
      },
      "file_extension": ".py",
      "mimetype": "text/x-python",
      "name": "python",
      "nbconvert_exporter": "python",
      "pygments_lexer": "ipython3",
      "version": "3.7.6"
    }
  },
  "nbformat": 4,
  "nbformat_minor": 0
}